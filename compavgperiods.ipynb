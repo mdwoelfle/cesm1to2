{
 "cells": [
  {
   "cell_type": "markdown",
   "metadata": {},
   "source": [
    "## Looking at metrics as a function of model version"
   ]
  },
  {
   "cell_type": "markdown",
   "metadata": {},
   "source": [
    "#### Set to automatically reload modules"
   ]
  },
  {
   "cell_type": "code",
   "execution_count": 1,
   "metadata": {},
   "outputs": [],
   "source": [
    "%load_ext autoreload\n",
    "%autoreload 2"
   ]
  },
  {
   "cell_type": "markdown",
   "metadata": {},
   "source": [
    "### Import Block"
   ]
  },
  {
   "cell_type": "code",
   "execution_count": 2,
   "metadata": {},
   "outputs": [],
   "source": [
    "import os                        # import operating system functions\n",
    "import sys\n",
    "from socket import gethostname   # used to determine which machine we are\n",
    "#                                #   running on\n",
    "import matplotlib.gridspec as gridspec  # pretty subplots\n",
    "import numpy as np  # for handling arrays\n",
    "import xarray as xr  # for handling nd things (netcdfs)\n",
    "import matplotlib.pyplot as plt  # for plotting things\n",
    "from mdwtools import mdwfunctions as mwfn  # For averaging things\n",
    "from mdwtools import mdwplots as mwp  # For plotting things\n",
    "\n",
    "import cesm1to2plotter as c1to2p\n",
    "# import matplotlib.cm as cm\n",
    "from scipy.stats import linregress"
   ]
  },
  {
   "cell_type": "markdown",
   "metadata": {},
   "source": [
    "### Load Section\n",
    "#### Set flags for loading and some options for plotting"
   ]
  },
  {
   "cell_type": "code",
   "execution_count": 30,
   "metadata": {},
   "outputs": [],
   "source": [
    "# Set new variables to compute when loading\n",
    "newVars = 'PRECT'\n",
    "\n",
    "# Set flags for loading/plotting/doing things\n",
    "calcPrect_flag = True\n",
    "lRunMean = 20\n",
    "ocnOnly_flag = False\n",
    "save_flag = False\n",
    "saveSubDir = ''\n",
    "verbose_flag = False\n",
    "\n",
    "# Set plotting options\n",
    "xTickRotation = 45\n",
    "subFigCountStart = 'a'\n"
   ]
  },
  {
   "cell_type": "markdown",
   "metadata": {},
   "source": [
    "#### Load and plot"
   ]
  },
  {
   "cell_type": "code",
   "execution_count": 36,
   "metadata": {},
   "outputs": [
    {
     "name": "stdout",
     "output_type": "stream",
     "text": [
      "Processing 01...\n"
     ]
    },
    {
     "name": "stderr",
     "output_type": "stream",
     "text": [
      "/glade/u/home/emaroon/anaconda3/lib/python3.6/site-packages/xarray/coding/times.py:132: SerializationWarning: Unable to decode time axis into full numpy.datetime64 objects, continuing using dummy cftime.datetime objects instead, reason: dates out of range\n",
      "  enable_cftimeindex)\n",
      "/glade/u/home/emaroon/anaconda3/lib/python3.6/site-packages/xarray/coding/variables.py:66: SerializationWarning: Unable to decode time axis into full numpy.datetime64 objects, continuing using dummy cftime.datetime objects instead, reason: dates out of range\n",
      "  return self.func(self.array[key])\n"
     ]
    },
    {
     "name": "stdout",
     "output_type": "stream",
     "text": [
      "Processing 28...\n"
     ]
    },
    {
     "name": "stderr",
     "output_type": "stream",
     "text": [
      "/glade/u/home/emaroon/anaconda3/lib/python3.6/site-packages/xarray/coding/times.py:132: SerializationWarning: Unable to decode time axis into full numpy.datetime64 objects, continuing using dummy cftime.datetime objects instead, reason: dates out of range\n",
      "  enable_cftimeindex)\n",
      "/glade/u/home/emaroon/anaconda3/lib/python3.6/site-packages/xarray/coding/variables.py:66: SerializationWarning: Unable to decode time axis into full numpy.datetime64 objects, continuing using dummy cftime.datetime objects instead, reason: dates out of range\n",
      "  return self.func(self.array[key])\n"
     ]
    },
    {
     "name": "stdout",
     "output_type": "stream",
     "text": [
      "Processing 36...\n"
     ]
    },
    {
     "name": "stderr",
     "output_type": "stream",
     "text": [
      "/glade/u/home/emaroon/anaconda3/lib/python3.6/site-packages/xarray/coding/times.py:132: SerializationWarning: Unable to decode time axis into full numpy.datetime64 objects, continuing using dummy cftime.datetime objects instead, reason: dates out of range\n",
      "  enable_cftimeindex)\n",
      "/glade/u/home/emaroon/anaconda3/lib/python3.6/site-packages/xarray/coding/variables.py:66: SerializationWarning: Unable to decode time axis into full numpy.datetime64 objects, continuing using dummy cftime.datetime objects instead, reason: dates out of range\n",
      "  return self.func(self.array[key])\n"
     ]
    },
    {
     "name": "stdout",
     "output_type": "stream",
     "text": [
      "Processing ga7.66...\n"
     ]
    },
    {
     "name": "stderr",
     "output_type": "stream",
     "text": [
      "/glade/u/home/emaroon/anaconda3/lib/python3.6/site-packages/xarray/coding/times.py:132: SerializationWarning: Unable to decode time axis into full numpy.datetime64 objects, continuing using dummy cftime.datetime objects instead, reason: dates out of range\n",
      "  enable_cftimeindex)\n",
      "/glade/u/home/emaroon/anaconda3/lib/python3.6/site-packages/xarray/coding/variables.py:66: SerializationWarning: Unable to decode time axis into full numpy.datetime64 objects, continuing using dummy cftime.datetime objects instead, reason: dates out of range\n",
      "  return self.func(self.array[key])\n"
     ]
    },
    {
     "name": "stdout",
     "output_type": "stream",
     "text": [
      "Processing 119...\n"
     ]
    },
    {
     "name": "stderr",
     "output_type": "stream",
     "text": [
      "/glade/u/home/emaroon/anaconda3/lib/python3.6/site-packages/xarray/coding/times.py:132: SerializationWarning: Unable to decode time axis into full numpy.datetime64 objects, continuing using dummy cftime.datetime objects instead, reason: dates out of range\n",
      "  enable_cftimeindex)\n",
      "/glade/u/home/emaroon/anaconda3/lib/python3.6/site-packages/xarray/coding/variables.py:66: SerializationWarning: Unable to decode time axis into full numpy.datetime64 objects, continuing using dummy cftime.datetime objects instead, reason: dates out of range\n",
      "  return self.func(self.array[key])\n"
     ]
    },
    {
     "name": "stdout",
     "output_type": "stream",
     "text": [
      "Processing 125...\n"
     ]
    },
    {
     "name": "stderr",
     "output_type": "stream",
     "text": [
      "/glade/u/home/emaroon/anaconda3/lib/python3.6/site-packages/xarray/coding/times.py:132: SerializationWarning: Unable to decode time axis into full numpy.datetime64 objects, continuing using dummy cftime.datetime objects instead, reason: dates out of range\n",
      "  enable_cftimeindex)\n",
      "/glade/u/home/emaroon/anaconda3/lib/python3.6/site-packages/xarray/coding/variables.py:66: SerializationWarning: Unable to decode time axis into full numpy.datetime64 objects, continuing using dummy cftime.datetime objects instead, reason: dates out of range\n",
      "  return self.func(self.array[key])\n"
     ]
    },
    {
     "name": "stdout",
     "output_type": "stream",
     "text": [
      "Processing 161...\n",
      "Processing 194...\n"
     ]
    },
    {
     "name": "stderr",
     "output_type": "stream",
     "text": [
      "/glade/u/home/emaroon/anaconda3/lib/python3.6/site-packages/xarray/coding/times.py:132: SerializationWarning: Unable to decode time axis into full numpy.datetime64 objects, continuing using dummy cftime.datetime objects instead, reason: dates out of range\n",
      "  enable_cftimeindex)\n",
      "/glade/u/home/emaroon/anaconda3/lib/python3.6/site-packages/xarray/coding/variables.py:66: SerializationWarning: Unable to decode time axis into full numpy.datetime64 objects, continuing using dummy cftime.datetime objects instead, reason: dates out of range\n",
      "  return self.func(self.array[key])\n"
     ]
    },
    {
     "name": "stdout",
     "output_type": "stream",
     "text": [
      "Processing 195...\n"
     ]
    },
    {
     "name": "stderr",
     "output_type": "stream",
     "text": [
      "/glade/u/home/emaroon/anaconda3/lib/python3.6/site-packages/xarray/coding/times.py:132: SerializationWarning: Unable to decode time axis into full numpy.datetime64 objects, continuing using dummy cftime.datetime objects instead, reason: dates out of range\n",
      "  enable_cftimeindex)\n",
      "/glade/u/home/emaroon/anaconda3/lib/python3.6/site-packages/xarray/coding/variables.py:66: SerializationWarning: Unable to decode time axis into full numpy.datetime64 objects, continuing using dummy cftime.datetime objects instead, reason: dates out of range\n",
      "  return self.func(self.array[key])\n"
     ]
    },
    {
     "name": "stdout",
     "output_type": "stream",
     "text": [
      "Processing 297...\n",
      "1\n"
     ]
    },
    {
     "name": "stderr",
     "output_type": "stream",
     "text": [
      "/glade/u/home/emaroon/anaconda3/lib/python3.6/site-packages/xarray/coding/times.py:132: SerializationWarning: Unable to decode time axis into full numpy.datetime64 objects, continuing using dummy cftime.datetime objects instead, reason: dates out of range\n",
      "  enable_cftimeindex)\n",
      "/glade/u/home/emaroon/anaconda3/lib/python3.6/site-packages/xarray/coding/variables.py:66: SerializationWarning: Unable to decode time axis into full numpy.datetime64 objects, continuing using dummy cftime.datetime objects instead, reason: dates out of range\n",
      "  return self.func(self.array[key])\n"
     ]
    },
    {
     "name": "stdout",
     "output_type": "stream",
     "text": [
      "101\n"
     ]
    },
    {
     "name": "stderr",
     "output_type": "stream",
     "text": [
      "/glade/u/home/emaroon/anaconda3/lib/python3.6/site-packages/xarray/coding/times.py:132: SerializationWarning: Unable to decode time axis into full numpy.datetime64 objects, continuing using dummy cftime.datetime objects instead, reason: dates out of range\n",
      "  enable_cftimeindex)\n",
      "/glade/u/home/emaroon/anaconda3/lib/python3.6/site-packages/xarray/coding/variables.py:66: SerializationWarning: Unable to decode time axis into full numpy.datetime64 objects, continuing using dummy cftime.datetime objects instead, reason: dates out of range\n",
      "  return self.func(self.array[key])\n"
     ]
    },
    {
     "name": "stdout",
     "output_type": "stream",
     "text": [
      "201\n"
     ]
    },
    {
     "name": "stderr",
     "output_type": "stream",
     "text": [
      "/glade/u/home/emaroon/anaconda3/lib/python3.6/site-packages/xarray/coding/times.py:132: SerializationWarning: Unable to decode time axis into full numpy.datetime64 objects, continuing using dummy cftime.datetime objects instead, reason: dates out of range\n",
      "  enable_cftimeindex)\n",
      "/glade/u/home/emaroon/anaconda3/lib/python3.6/site-packages/xarray/coding/variables.py:66: SerializationWarning: Unable to decode time axis into full numpy.datetime64 objects, continuing using dummy cftime.datetime objects instead, reason: dates out of range\n",
      "  return self.func(self.array[key])\n"
     ]
    },
    {
     "name": "stdout",
     "output_type": "stream",
     "text": [
      "Processing obs...\n"
     ]
    },
    {
     "data": {
      "image/png": "[encoded data removed]",
      "text/plain": [
       "<Figure size 720x612 with 11 Axes>"
      ]
     },
     "metadata": {},
     "output_type": "display_data"
    }
   ],
   "source": [
    "# Get directory of file to load\n",
    "ncDir, ncSubDir, saveDir = c1to2p.setfilepaths(loadClimo_flag=False)\n",
    "\n",
    "if gethostname()[0:6] in c1to2p.getncarmachlist(6):\n",
    "    # Directories on NCAR systems may be all screwy due to changes to file\n",
    "    #   system on 208-07-11 \n",
    "\n",
    "    # Set info for \"runs of convenience\" from Celice at NCAR\n",
    "    ncDir = '/glade/p_old/cgd/amp/people/hannay/amwg/climo/'\n",
    "\n",
    "# Set variable for plotting\n",
    "plotVar = 'PRECT'\n",
    "\n",
    "nonClimoRuns = ['297']\n",
    "\n",
    "versionIds = ['01',\n",
    "               '28',\n",
    "               '36',\n",
    "               'ga7.66',\n",
    "              # '100',\n",
    "              # '113',\n",
    "              # '114',\n",
    "              # '116',\n",
    "              # '118',\n",
    "               '119',\n",
    "               '125',\n",
    "              '161',\n",
    "              '194',\n",
    "              '195',\n",
    "              '297',\n",
    "              'obs',\n",
    "              ]\n",
    "\n",
    "# Set flags and other options based on variable to be plotted\n",
    "if plotVar == 'TS':\n",
    "    latLim = np.array([-3, 3])\n",
    "    lonLim = np.array([180, 220])\n",
    "    ocnOnly_flag = True\n",
    "    rmRefRegMean_flag = True\n",
    "    refLatLim = np.array([-20, 20])\n",
    "    refLonLim = np.array([150, 250])\n",
    "    yLim = np.array([-2.0, 1.0])\n",
    "elif plotVar in ['PRECT', 'PRECC', 'PRECL']:\n",
    "    latLim = np.array([-20, 0])\n",
    "    lonLim = np.array([210, 260])\n",
    "    if 'obs' in versionIds:\n",
    "        obsYrs = [1979, 2009]\n",
    "        obsDs = c1to2p.loadobsdatasets(\n",
    "            gpcp_flag=True,\n",
    "            gpcpYrs=obsYrs,\n",
    "            whichGpcp='all',\n",
    "            )['gpcp']\n",
    "        obsVar = ('precip' if 'precip' in obsDs else 'PRECT')\n",
    "    ocnOnly_flag = ocnOnly_flag\n",
    "    rmRefRegMean_flag = False\n",
    "    refLatLim = np.array([0, 0])\n",
    "    refLonLim = np.array([0, 0])\n",
    "    yLim = np.array([1.00, 3.00])\n",
    "else:\n",
    "    latLim = np.array([-20, 20])\n",
    "    lonLim = np.array([120, 270])\n",
    "    ocnOnly_flag = False\n",
    "    rmRefRegMean_flag = False\n",
    "    refLatLim = np.array([0, 0])\n",
    "    refLonLim = np.array([0, 0])\n",
    "    yLim = None\n",
    "\n",
    "if len(versionIds) == 9:\n",
    "    hf = plt.figure()\n",
    "    hf.set_size_inches(10, 6.5, forward=True)\n",
    "    \n",
    "    gs = gridspec.GridSpec(3, 3,\n",
    "                           # height_ratios=[20, 1, 20, 1, 20],\n",
    "                           hspace=(0.3\n",
    "                                   if xTickRotation is None\n",
    "                                   else 0.4),\n",
    "                           # width_ratios=[30, 30, 1],\n",
    "                           wspace=0.3,\n",
    "                           )\n",
    "    gs.update(left=0.07, right=0.95, top=0.95, bottom=0.05)\n",
    "    \n",
    "    rowInds = [0, 0, 0, 1, 1, 1, 2, 2, 2]\n",
    "    colInds = [0, 1, 2, 0, 1, 2, 0, 1, 2]\n",
    "    \n",
    "    subplotLblLoc = (-0.25, 1.00)\n",
    "elif len(versionIds) <= 12:\n",
    "    hf = plt.figure()\n",
    "    hf.set_size_inches(10, 8.5, forward=True)\n",
    "    \n",
    "    gs = gridspec.GridSpec(4, 3,\n",
    "                           # height_ratios=[20, 1, 20, 1, 20],\n",
    "                           hspace=(0.3\n",
    "                                   if xTickRotation is None\n",
    "                                   else 0.4),\n",
    "                           # width_ratios=[30, 30, 1],\n",
    "                           wspace=0.3,\n",
    "                           )\n",
    "    gs.update(left=0.07, right=0.95, top=0.95, bottom=0.05)\n",
    "    \n",
    "    colInds = [0, 1, 2, 0, 1, 2, 0, 1, 2, 0, 1, 2]\n",
    "    rowInds = [0, 0, 0, 1, 1, 1, 2, 2, 2, 3, 3, 3]\n",
    "    \n",
    "    subplotLblLoc = (-0.25, 1.00)\n",
    "\n",
    "skippedPlotCount = 0\n",
    "\n",
    "axList = [None]*len(rowInds)\n",
    "    \n",
    "\n",
    "for jId, versionId in enumerate(versionIds):\n",
    "\n",
    "    if versionId is None:\n",
    "        skippedPlotCount = skippedPlotCount + 1\n",
    "        continue\n",
    "\n",
    "    axList[jId] = plt.subplot(gs[rowInds[jId], colInds[jId]])\n",
    "    \n",
    "    print('Processing {:s}...'.format(versionId))\n",
    "\n",
    "    if versionId in ['obs']:\n",
    "        # Compute regional mean of observations\n",
    "        obsRegMeanDa = mwfn.calcdaregmean(obsDs[obsVar],\n",
    "                                          gwDa=None,\n",
    "                                          latLim=latLim,\n",
    "                                          lonLim=lonLim,\n",
    "                                          stdUnits_flag=True,\n",
    "                                          )\n",
    "        # Compute regional mean of reference region for observations\n",
    "        if rmRefRegMean_flag:\n",
    "            obsRefRegMeanDa = mwfn.calcdaregmean(obsDs[obsVar],\n",
    "                                                 gwDa=None,\n",
    "                                                 latLim=refLatLim,\n",
    "                                                 lonLim=refLonLim,\n",
    "                                                 stdUnits_flag=True,\n",
    "                                                 )\n",
    "\n",
    "            obsRegMeanDa = obsRegMeanDa - obsRefRegMeanDa\n",
    "\n",
    "        # Get annual means of obs\n",
    "        try:\n",
    "            obsRegAnnMeans = (\n",
    "                obsRegMeanDa.data.reshape([\n",
    "                    int(obsRegMeanDa.size/12), 12]).mean(axis=1)\n",
    "                )\n",
    "        except ValueError:\n",
    "            obsRegAnnMeans = (\n",
    "                obsRegMeanDa.data[\n",
    "                    :-np.mod(obsRegMeanDa.data.size, 12)\n",
    "                    ].reshape([int(obsRegMeanDa.size/12),\n",
    "                               12]).mean(axis=1)\n",
    "                )\n",
    "        # Compute running means of obs annual means for comparison\n",
    "        obsRunMean = np.array([\n",
    "            np.mean(obsRegAnnMeans[j:j+lRunMean])\n",
    "            for j in np.arange(0, obsRegAnnMeans.size-lRunMean+1)])\n",
    "        \n",
    "        # Plot running means\n",
    "        plt.plot(np.arange(obsYrs[0] + lRunMean/2,\n",
    "                           obsYrs[0] + len(obsRunMean) + lRunMean/2,\n",
    "                           1),\n",
    "                 obsRunMean,\n",
    "                 color='k',\n",
    "                 lw=2)\n",
    "        if lRunMean == 20:\n",
    "            plt.xticks(np.arange(1990, 2000, 3))\n",
    "        \n",
    "    elif versionId in nonClimoRuns:\n",
    "        yrChunks = 100\n",
    "        startYr = 1\n",
    "        totalYrs = 300\n",
    "        for j, yr0 in enumerate(np.arange(startYr,\n",
    "                                          startYr + totalYrs,\n",
    "                                          yrChunks)):\n",
    "            print(yr0)\n",
    "            if versionId == '297':\n",
    "                if plotVar == 'PRECT':\n",
    "                    precDir = '/gpfs/fs1/scratch/woelfle/precfiles/'\n",
    "                    caseName = c1to2p.getcasebase(versionId)\n",
    "                    loadFiles = [\n",
    "                        precDir + caseName + '/' + caseName +\n",
    "                        '.cam.h0.{:04d}-{:02d}.nc'.format(yr, mon+1)\n",
    "                        for yr in np.arange(yr0, yr0 + yrChunks, 1)\n",
    "                        for mon in np.arange(12)\n",
    "                        ]\n",
    "                    # Load case for gs and LANDFRAC\n",
    "                    dsRef = xr.open_dataset(\n",
    "                        precDir + caseName + '/LANDFRAC_gw.nc')\n",
    "                else:\n",
    "                    loadFiles = c1to2p.getloadfilelists(\n",
    "                        [versionId],\n",
    "                        climo_flag=False,\n",
    "                        nyrs=yrChunks,\n",
    "                        yr0=yr0,\n",
    "                        )[versionId]\n",
    "            ds = xr.open_mfdataset(loadFiles,\n",
    "                                   decode_times=False)\n",
    "            # Compute PRECT if needed\n",
    "            if calcPrect_flag:\n",
    "                ds['PRECT'] = mwfn.calcprectda(ds)\n",
    "\n",
    "            # Compute regional mean\n",
    "            regMeanDa = mwfn.calcdaregmean(ds[plotVar],\n",
    "                                           gwDa=(ds['gw']\n",
    "                                                 if 'gw' in ds else\n",
    "                                                 dsRef['gw']),\n",
    "                                           latLim=latLim,\n",
    "                                           lonLim=lonLim,\n",
    "                                           landFracDa=(\n",
    "                                               ds['LANDFRAC']\n",
    "                                               if 'LANDFRAC' in ds else\n",
    "                                               dsRef['LANDFRAC']),\n",
    "                                           ocnOnly_flag=ocnOnly_flag,\n",
    "                                           stdUnits_flag=True,\n",
    "                                           )\n",
    "            # Compute regional mean of reference region for observations\n",
    "            if rmRefRegMean_flag:\n",
    "                refRegMeanDa = mwfn.calcdaregmean(ds[plotVar],\n",
    "                                                  gwDa=ds['gw'],\n",
    "                                                  latLim=refLatLim,\n",
    "                                                  lonLim=refLonLim,\n",
    "                                                  landFracDa=(\n",
    "                                                      ds['LANDFRAC']),\n",
    "                                                  ocnOnly_flag=ocnOnly_flag,\n",
    "                                                  stdUnits_flag=True,\n",
    "                                                  )\n",
    "\n",
    "                regMeanDa = regMeanDa - refRegMeanDa\n",
    "\n",
    "            # Compute annual means\n",
    "            try:\n",
    "                subRegAnnMeans = (\n",
    "                    regMeanDa.data.reshape([\n",
    "                        int(regMeanDa.size/12), 12]).mean(axis=1)\n",
    "                    )\n",
    "            except ValueError:\n",
    "                subRegAnnMeans = (\n",
    "                    regMeanDa.data[\n",
    "                        :-np.mod(regMeanDa.data.size, 12)\n",
    "                        ].reshape([int(regMeanDa.size/12),\n",
    "                                   12]).mean(axis=1)\n",
    "                    )\n",
    "            if j == 0:\n",
    "                regAnnMeans = subRegAnnMeans\n",
    "            else:\n",
    "                regAnnMeans = np.append(regAnnMeans, subRegAnnMeans)\n",
    "        # Compute running means of obs annual means for comparison\n",
    "        runMean = np.array([\n",
    "            np.mean(regAnnMeans[j:j+lRunMean])\n",
    "            for j in np.arange(0, regAnnMeans.size-lRunMean+1)])\n",
    "        \n",
    "        # Plot running means\n",
    "        plt.plot(np.arange(startYr + lRunMean/2,\n",
    "                           startYr + len(runMean) + lRunMean/2,\n",
    "                           1),\n",
    "                 runMean,\n",
    "                 color=c1to2p.getcolordict()[versionId],\n",
    "                 lw=2)\n",
    "\n",
    "    else:\n",
    "        # Pull parameters for versionId\n",
    "        caseBase = c1to2p.getcasebase(versionId)\n",
    "        yrIds = c1to2p.getavailableyearslist(versionId)\n",
    "        yrDirs = c1to2p.getyearsubdirs(versionId)\n",
    "        fileName = caseBase + '_ANN_climo.nc'\n",
    "\n",
    "        # Create list of files to load\n",
    "        loadFiles = {yid: (ncDir + caseBase + '/' +\n",
    "                           yrDirs[jId] + '/' + fileName)\n",
    "                     for jId, yid in enumerate(yrIds)}\n",
    "\n",
    "        # Open netcdf file(s)\n",
    "        dataSets = {yid: xr.open_dataset(loadFiles[yid])\n",
    "                    for yid in yrIds}\n",
    "\n",
    "        # Compute PRECT if needed\n",
    "        if calcPrect_flag:\n",
    "            for yid in yrIds:\n",
    "                if verbose_flag:\n",
    "                    print(yid)\n",
    "                dataSets[yid]['PRECT'] = mwfn.calcprectda(dataSets[yid])\n",
    "\n",
    "        # Add year id to dataSets for easy access and bookkeeping\n",
    "        for yid in yrIds:\n",
    "            if all([yid == '0.9x1.25',\n",
    "                    versionId == '01']):\n",
    "                dataSets[yid].attrs['yid'] = '15-34'\n",
    "            else:\n",
    "                dataSets[yid].attrs['yid'] = yid\n",
    "\n",
    "        # Create dictionary to hold annual mean value (and colors)\n",
    "        annMean = dict()\n",
    "\n",
    "        for yid in yrIds:\n",
    "            # Compute regional mean through time\n",
    "            regMeanDa = mwfn.calcdaregmean(dataSets[yid][plotVar],\n",
    "                                           gwDa=dataSets[yid]['gw'],\n",
    "                                           latLim=latLim,\n",
    "                                           lonLim=lonLim,\n",
    "                                           ocnOnly_flag=ocnOnly_flag,\n",
    "                                           qc_flag=False,\n",
    "                                           landFracDa=(\n",
    "                                               dataSets[yid]['LANDFRAC']),\n",
    "                                           stdUnits_flag=True,\n",
    "                                           )\n",
    "\n",
    "            # Compute reference regional mean if needed\n",
    "            if rmRefRegMean_flag:\n",
    "                refRegMeanDa = mwfn.calcdaregmean(\n",
    "                    dataSets[yid][plotVar],\n",
    "                    gwDa=dataSets[yid]['gw'],\n",
    "                    latLim=refLatLim,\n",
    "                    lonLim=refLonLim,\n",
    "                    ocnOnly_flag=ocnOnly_flag,\n",
    "                    landFracDa=dataSets[yid]['LANDFRAC'],\n",
    "                    qc_flag=False,\n",
    "                    stdUnits_flag=True,\n",
    "                    )\n",
    "                regMeanDa = regMeanDa - refRegMeanDa\n",
    "\n",
    "            annMean[yid] = regMeanDa.mean(dim='time')\n",
    "\n",
    "        # Plot annual mean values\n",
    "        plotAnnMeans = [annMean[yid] for yid in yrIds]\n",
    "        plt.scatter(np.arange(1, len(plotAnnMeans) + 1),\n",
    "                    np.array(plotAnnMeans),\n",
    "                    marker='o',\n",
    "                    c=[c1to2p.getcolordict()[versionId] for yid in yrIds],\n",
    "                    s=80,\n",
    "                    )\n",
    "\n",
    "        # Format x axis\n",
    "        plt.xlim([0.8, len(annMean) + 0.2])\n",
    "        plt.xticks(np.arange(1, len(annMean) + 1),\n",
    "                   [dataSets[yid].yid for yid in yrIds])\n",
    "\n",
    "        # Rorate xticks if requested\n",
    "        if (xTickRotation is not None) and (len(annMean) > 4):\n",
    "            for tick in axList[jId].get_xticklabels():\n",
    "                tick.set_rotation(xTickRotation)\n",
    "            \n",
    "                \n",
    "    # Add xlabel\n",
    "    if versionId in ['obs', '297']:\n",
    "        plt.xlabel('Time (years)')\n",
    "    else:\n",
    "        plt.xlabel('Averaging Period')\n",
    "        # Only label bottom-most plotted row\n",
    "        try:\n",
    "            plt.sca(axList[jId-max(colInds)-1])\n",
    "            plt.xlabel('')\n",
    "            plt.sca(axList[jId])\n",
    "        except ValueError:\n",
    "            # Will give error when axes above does not yet exists\n",
    "            # This is ok as it means we are working with the top row\n",
    "            pass\n",
    "\n",
    "    # Format y axis\n",
    "    plt.ylim(yLim)\n",
    "    if all([plotVar == 'TS',\n",
    "            rmRefRegMean_flag,\n",
    "            all(latLim == np.array([-3, 3])),\n",
    "            all(lonLim == np.array([180, 220])),\n",
    "            all(refLatLim == np.array([-20, 20])),\n",
    "            all(refLonLim == np.array([150, 250])),\n",
    "            ]):\n",
    "        plt.ylabel('CTI ({:s})'.format(dataSets[yid][plotVar].units))\n",
    "    elif all([plotVar == 'PRECT',\n",
    "              all(latLim == np.array([-20, 0])),\n",
    "              all(lonLim == np.array([210, 260]))\n",
    "             ]):\n",
    "        plt.ylabel('dITCZ Index (mm/d)')\n",
    "    else:\n",
    "        plt.ylabel(plotVar + ' (' +\n",
    "                   mwp.getlatlimstring(latLim) + ', ' +\n",
    "                   mwp.getlonlimstring(lonLim, lonFormat='EW') + ')'\n",
    "                   )\n",
    "    # Clear y label from all but left-most plotted column\n",
    "    if colInds[jId] > 0:\n",
    "        plt.ylabel('')\n",
    "\n",
    "    # Tweek the grid\n",
    "    plt.grid(ls='--')\n",
    "    plt.gca().set_axisbelow(True)\n",
    "\n",
    "    plt.title('')\n",
    "\n",
    "    # Add case label as annotation\n",
    "    axList[jId].annotate(versionId,\n",
    "                         xy=(0, 1),\n",
    "                         xycoords='axes fraction',\n",
    "                         horizontalalignment='left',\n",
    "                         verticalalignment='bottom',\n",
    "                         )\n",
    "        \n",
    "    # Add subfigure label, e.g. (a)\n",
    "    axList[jId].annotate('(' +\n",
    "                         chr(jId +\n",
    "                             ord(subFigCountStart) -\n",
    "                             skippedPlotCount\n",
    "                             ) +\n",
    "                         ')',\n",
    "                         # xy=(-0.12, 1.09),\n",
    "                         xy=subplotLblLoc,\n",
    "                         xycoords='axes fraction',\n",
    "                         horizontalalignment='left',\n",
    "                         verticalalignment='bottom',\n",
    "                         fontweight='bold',\n",
    "                         )\n",
    "\n",
    "    if save_flag:\n",
    "        if plotVar in ['PRECT', 'PRECC', 'PRECL']:\n",
    "            mwp.savefig(saveDir + saveSubDir +\n",
    "                        'annmean_dITCZindex_v{:s}'.format(versionId)\n",
    "                        )\n",
    "        elif plotVar in ['TS']:\n",
    "            mwp.savefig(saveDir + saveSubDir +\n",
    "                        'annmean_CTI_v{:s}'.format(versionId)\n",
    "                        )\n",
    "\n",
    "plt.show()"
   ]
  },
  {
   "cell_type": "code",
   "execution_count": 35,
   "metadata": {},
   "outputs": [
    {
     "data": {
      "text/plain": [
       "array([1990, 1993, 1996, 1999])"
      ]
     },
     "execution_count": 35,
     "metadata": {},
     "output_type": "execute_result"
    }
   ],
   "source": []
  },
  {
   "cell_type": "code",
   "execution_count": null,
   "metadata": {},
   "outputs": [],
   "source": [
    "yrChunks = 50\n",
    "startYr = 1\n",
    "totalYrs = 300\n",
    "\n",
    "precDir = '/gpfs/fs1/scratch/woelfle/precfiles/'\n",
    "caseName = 'b.e20.B1850.f09_g17.pi_control.all.297'\n",
    "\n",
    "versionId = '297'\n",
    "\n",
    "for j, yr0 in enumerate(np.arange(startYr,\n",
    "                                  startYr + totalYrs,\n",
    "                                  yrChunks)):\n",
    "    print(yr0)\n",
    "    if versionId == '297':\n",
    "        loadFiles = [\n",
    "            precDir + caseName + '/' + caseName +\n",
    "            '.cam.h0.{:04d}-{:02d}.nc'.format(yr, mon+1)\n",
    "            for yr in np.arange(yr0, yr0 + yrChunks, 1)\n",
    "            for mon in np.arange(12)\n",
    "        ]\n",
    "        \n",
    "        # loadFiles = c1to2p.getloadfilelists(\n",
    "            # [versionId],\n",
    "            # climo_flag=False,\n",
    "            # nyrs=yrChunks,\n",
    "            # yr0=yr0,\n",
    "            # )[versionId]\n",
    "    print(loadFiles[0:2])\n",
    "    ds = xr.open_mfdataset(loadFiles,\n",
    "                           decode_times=False)"
   ]
  }
 ],
 "metadata": {
  "kernelspec": {
   "display_name": "Python 3",
   "language": "python",
   "name": "python3"
  },
  "language_info": {
   "codemirror_mode": {
    "name": "ipython",
    "version": 3
   },
   "file_extension": ".py",
   "mimetype": "text/x-python",
   "name": "python",
   "nbconvert_exporter": "python",
   "pygments_lexer": "ipython3",
   "version": "3.6.5"
  }
 },
 "nbformat": 4,
 "nbformat_minor": 2
}
